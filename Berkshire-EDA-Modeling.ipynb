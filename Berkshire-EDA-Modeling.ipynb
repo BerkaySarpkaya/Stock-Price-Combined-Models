{
 "cells": [
  {
   "cell_type": "markdown",
   "metadata": {},
   "source": [
    "## __Step 1 - Importing Data and Libraries__"
   ]
  },
  {
   "cell_type": "code",
   "execution_count": 1,
   "metadata": {},
   "outputs": [],
   "source": [
    "# Importing necessary libraries\n",
    "\n",
    "import pandas as pd\n",
    "import numpy as np\n",
    "import matplotlib.pyplot as plt"
   ]
  },
  {
   "cell_type": "code",
   "execution_count": 2,
   "metadata": {},
   "outputs": [],
   "source": [
    "# Let's read the csv file that we have created after reformatting the json file \n",
    "# that was obtained through the Alphavantage API\n",
    "\n",
    "BRKA=pd.read_csv(\"Berkshire_Stock_Historical.csv\",index_col=\"Date\",parse_dates=True)"
   ]
  },
  {
   "cell_type": "code",
   "execution_count": 4,
   "metadata": {},
   "outputs": [
    {
     "data": {
      "text/html": [
       "<div>\n",
       "<style scoped>\n",
       "    .dataframe tbody tr th:only-of-type {\n",
       "        vertical-align: middle;\n",
       "    }\n",
       "\n",
       "    .dataframe tbody tr th {\n",
       "        vertical-align: top;\n",
       "    }\n",
       "\n",
       "    .dataframe thead th {\n",
       "        text-align: right;\n",
       "    }\n",
       "</style>\n",
       "<table border=\"1\" class=\"dataframe\">\n",
       "  <thead>\n",
       "    <tr style=\"text-align: right;\">\n",
       "      <th></th>\n",
       "      <th>Symbol</th>\n",
       "      <th>Open</th>\n",
       "      <th>High</th>\n",
       "      <th>Low</th>\n",
       "      <th>Close</th>\n",
       "      <th>Volume</th>\n",
       "    </tr>\n",
       "    <tr>\n",
       "      <th>Date</th>\n",
       "      <th></th>\n",
       "      <th></th>\n",
       "      <th></th>\n",
       "      <th></th>\n",
       "      <th></th>\n",
       "      <th></th>\n",
       "    </tr>\n",
       "  </thead>\n",
       "  <tbody>\n",
       "    <tr>\n",
       "      <th>2023-10-27</th>\n",
       "      <td>BRK.A</td>\n",
       "      <td>509478.500</td>\n",
       "      <td>511180.0000</td>\n",
       "      <td>502000.00</td>\n",
       "      <td>503375.05</td>\n",
       "      <td>7910</td>\n",
       "    </tr>\n",
       "    <tr>\n",
       "      <th>2023-10-26</th>\n",
       "      <td>BRK.A</td>\n",
       "      <td>512653.005</td>\n",
       "      <td>514999.9900</td>\n",
       "      <td>508320.94</td>\n",
       "      <td>510125.00</td>\n",
       "      <td>7210</td>\n",
       "    </tr>\n",
       "    <tr>\n",
       "      <th>2023-10-25</th>\n",
       "      <td>BRK.A</td>\n",
       "      <td>514931.500</td>\n",
       "      <td>516735.0000</td>\n",
       "      <td>511750.01</td>\n",
       "      <td>512400.00</td>\n",
       "      <td>7082</td>\n",
       "    </tr>\n",
       "    <tr>\n",
       "      <th>2023-10-24</th>\n",
       "      <td>BRK.A</td>\n",
       "      <td>514760.000</td>\n",
       "      <td>516974.8700</td>\n",
       "      <td>513072.01</td>\n",
       "      <td>516249.90</td>\n",
       "      <td>6713</td>\n",
       "    </tr>\n",
       "    <tr>\n",
       "      <th>2023-10-23</th>\n",
       "      <td>BRK.A</td>\n",
       "      <td>508564.000</td>\n",
       "      <td>515889.9988</td>\n",
       "      <td>507122.01</td>\n",
       "      <td>512499.96</td>\n",
       "      <td>8917</td>\n",
       "    </tr>\n",
       "    <tr>\n",
       "      <th>...</th>\n",
       "      <td>...</td>\n",
       "      <td>...</td>\n",
       "      <td>...</td>\n",
       "      <td>...</td>\n",
       "      <td>...</td>\n",
       "      <td>...</td>\n",
       "    </tr>\n",
       "    <tr>\n",
       "      <th>1999-11-05</th>\n",
       "      <td>BRK.A</td>\n",
       "      <td>66700.000</td>\n",
       "      <td>66900.0000</td>\n",
       "      <td>65300.00</td>\n",
       "      <td>65300.00</td>\n",
       "      <td>13000</td>\n",
       "    </tr>\n",
       "    <tr>\n",
       "      <th>1999-11-04</th>\n",
       "      <td>BRK.A</td>\n",
       "      <td>65800.000</td>\n",
       "      <td>66800.0000</td>\n",
       "      <td>65400.00</td>\n",
       "      <td>65900.00</td>\n",
       "      <td>19000</td>\n",
       "    </tr>\n",
       "    <tr>\n",
       "      <th>1999-11-03</th>\n",
       "      <td>BRK.A</td>\n",
       "      <td>65900.000</td>\n",
       "      <td>66600.0000</td>\n",
       "      <td>65500.00</td>\n",
       "      <td>65500.00</td>\n",
       "      <td>36000</td>\n",
       "    </tr>\n",
       "    <tr>\n",
       "      <th>1999-11-02</th>\n",
       "      <td>BRK.A</td>\n",
       "      <td>63500.000</td>\n",
       "      <td>66100.0000</td>\n",
       "      <td>63500.00</td>\n",
       "      <td>65305.00</td>\n",
       "      <td>62000</td>\n",
       "    </tr>\n",
       "    <tr>\n",
       "      <th>1999-11-01</th>\n",
       "      <td>BRK.A</td>\n",
       "      <td>64400.000</td>\n",
       "      <td>65300.0000</td>\n",
       "      <td>63500.00</td>\n",
       "      <td>63700.00</td>\n",
       "      <td>23000</td>\n",
       "    </tr>\n",
       "  </tbody>\n",
       "</table>\n",
       "<p>6037 rows × 6 columns</p>\n",
       "</div>"
      ],
      "text/plain": [
       "           Symbol        Open         High        Low      Close  Volume\n",
       "Date                                                                    \n",
       "2023-10-27  BRK.A  509478.500  511180.0000  502000.00  503375.05    7910\n",
       "2023-10-26  BRK.A  512653.005  514999.9900  508320.94  510125.00    7210\n",
       "2023-10-25  BRK.A  514931.500  516735.0000  511750.01  512400.00    7082\n",
       "2023-10-24  BRK.A  514760.000  516974.8700  513072.01  516249.90    6713\n",
       "2023-10-23  BRK.A  508564.000  515889.9988  507122.01  512499.96    8917\n",
       "...           ...         ...          ...        ...        ...     ...\n",
       "1999-11-05  BRK.A   66700.000   66900.0000   65300.00   65300.00   13000\n",
       "1999-11-04  BRK.A   65800.000   66800.0000   65400.00   65900.00   19000\n",
       "1999-11-03  BRK.A   65900.000   66600.0000   65500.00   65500.00   36000\n",
       "1999-11-02  BRK.A   63500.000   66100.0000   63500.00   65305.00   62000\n",
       "1999-11-01  BRK.A   64400.000   65300.0000   63500.00   63700.00   23000\n",
       "\n",
       "[6037 rows x 6 columns]"
      ]
     },
     "execution_count": 4,
     "metadata": {},
     "output_type": "execute_result"
    }
   ],
   "source": [
    "BRKA"
   ]
  },
  {
   "cell_type": "code",
   "execution_count": 5,
   "metadata": {},
   "outputs": [],
   "source": [
    "# Let's create a copy to keep the original\n",
    "df=BRKA.copy()"
   ]
  },
  {
   "cell_type": "markdown",
   "metadata": {},
   "source": [
    "## __Step 2 - EDA and Feature Engineering__"
   ]
  },
  {
   "cell_type": "markdown",
   "metadata": {},
   "source": [
    "### _Step 2.1 - Data Overview & Column Preparetion_"
   ]
  },
  {
   "cell_type": "code",
   "execution_count": 6,
   "metadata": {},
   "outputs": [
    {
     "name": "stdout",
     "output_type": "stream",
     "text": [
      "<class 'pandas.core.frame.DataFrame'>\n",
      "DatetimeIndex: 6037 entries, 2023-10-27 to 1999-11-01\n",
      "Data columns (total 6 columns):\n",
      " #   Column  Non-Null Count  Dtype  \n",
      "---  ------  --------------  -----  \n",
      " 0   Symbol  6037 non-null   object \n",
      " 1   Open    6037 non-null   float64\n",
      " 2   High    6037 non-null   float64\n",
      " 3   Low     6037 non-null   float64\n",
      " 4   Close   6037 non-null   float64\n",
      " 5   Volume  6037 non-null   int64  \n",
      "dtypes: float64(4), int64(1), object(1)\n",
      "memory usage: 330.1+ KB\n"
     ]
    }
   ],
   "source": [
    "df.info()"
   ]
  },
  {
   "cell_type": "code",
   "execution_count": 7,
   "metadata": {},
   "outputs": [
    {
     "data": {
      "text/html": [
       "<div>\n",
       "<style scoped>\n",
       "    .dataframe tbody tr th:only-of-type {\n",
       "        vertical-align: middle;\n",
       "    }\n",
       "\n",
       "    .dataframe tbody tr th {\n",
       "        vertical-align: top;\n",
       "    }\n",
       "\n",
       "    .dataframe thead th {\n",
       "        text-align: right;\n",
       "    }\n",
       "</style>\n",
       "<table border=\"1\" class=\"dataframe\">\n",
       "  <thead>\n",
       "    <tr style=\"text-align: right;\">\n",
       "      <th></th>\n",
       "      <th>Open</th>\n",
       "      <th>High</th>\n",
       "      <th>Low</th>\n",
       "      <th>Close</th>\n",
       "      <th>Volume</th>\n",
       "    </tr>\n",
       "  </thead>\n",
       "  <tbody>\n",
       "    <tr>\n",
       "      <th>count</th>\n",
       "      <td>6037.00</td>\n",
       "      <td>6037.00</td>\n",
       "      <td>6037.00</td>\n",
       "      <td>6037.00</td>\n",
       "      <td>6037.00</td>\n",
       "    </tr>\n",
       "    <tr>\n",
       "      <th>mean</th>\n",
       "      <td>187729.36</td>\n",
       "      <td>188989.41</td>\n",
       "      <td>186276.52</td>\n",
       "      <td>187659.78</td>\n",
       "      <td>33648.26</td>\n",
       "    </tr>\n",
       "    <tr>\n",
       "      <th>std</th>\n",
       "      <td>126498.84</td>\n",
       "      <td>127375.52</td>\n",
       "      <td>125372.03</td>\n",
       "      <td>126333.79</td>\n",
       "      <td>63794.36</td>\n",
       "    </tr>\n",
       "    <tr>\n",
       "      <th>min</th>\n",
       "      <td>41700.00</td>\n",
       "      <td>42600.00</td>\n",
       "      <td>40800.00</td>\n",
       "      <td>41300.00</td>\n",
       "      <td>43.00</td>\n",
       "    </tr>\n",
       "    <tr>\n",
       "      <th>25%</th>\n",
       "      <td>89200.00</td>\n",
       "      <td>89700.00</td>\n",
       "      <td>88500.00</td>\n",
       "      <td>89195.00</td>\n",
       "      <td>449.00</td>\n",
       "    </tr>\n",
       "    <tr>\n",
       "      <th>50%</th>\n",
       "      <td>126515.00</td>\n",
       "      <td>127612.00</td>\n",
       "      <td>125950.00</td>\n",
       "      <td>126800.00</td>\n",
       "      <td>18000.00</td>\n",
       "    </tr>\n",
       "    <tr>\n",
       "      <th>75%</th>\n",
       "      <td>269900.00</td>\n",
       "      <td>272220.00</td>\n",
       "      <td>267592.51</td>\n",
       "      <td>270420.00</td>\n",
       "      <td>47700.00</td>\n",
       "    </tr>\n",
       "    <tr>\n",
       "      <th>max</th>\n",
       "      <td>563549.00</td>\n",
       "      <td>566569.97</td>\n",
       "      <td>559100.01</td>\n",
       "      <td>563072.76</td>\n",
       "      <td>2740200.00</td>\n",
       "    </tr>\n",
       "  </tbody>\n",
       "</table>\n",
       "</div>"
      ],
      "text/plain": [
       "            Open       High        Low      Close      Volume\n",
       "count    6037.00    6037.00    6037.00    6037.00     6037.00\n",
       "mean   187729.36  188989.41  186276.52  187659.78    33648.26\n",
       "std    126498.84  127375.52  125372.03  126333.79    63794.36\n",
       "min     41700.00   42600.00   40800.00   41300.00       43.00\n",
       "25%     89200.00   89700.00   88500.00   89195.00      449.00\n",
       "50%    126515.00  127612.00  125950.00  126800.00    18000.00\n",
       "75%    269900.00  272220.00  267592.51  270420.00    47700.00\n",
       "max    563549.00  566569.97  559100.01  563072.76  2740200.00"
      ]
     },
     "execution_count": 7,
     "metadata": {},
     "output_type": "execute_result"
    }
   ],
   "source": [
    "df.describe().round(2)"
   ]
  },
  {
   "cell_type": "code",
   "execution_count": 8,
   "metadata": {},
   "outputs": [],
   "source": [
    "# Let's drop the symbol column"
   ]
  },
  {
   "cell_type": "code",
   "execution_count": 9,
   "metadata": {},
   "outputs": [],
   "source": [
    "df.drop(\"Symbol\",axis=1,inplace=True)"
   ]
  },
  {
   "cell_type": "code",
   "execution_count": 10,
   "metadata": {},
   "outputs": [
    {
     "name": "stdout",
     "output_type": "stream",
     "text": [
      "<class 'pandas.core.frame.DataFrame'>\n",
      "DatetimeIndex: 6037 entries, 2023-10-27 to 1999-11-01\n",
      "Data columns (total 5 columns):\n",
      " #   Column  Non-Null Count  Dtype  \n",
      "---  ------  --------------  -----  \n",
      " 0   Open    6037 non-null   float64\n",
      " 1   High    6037 non-null   float64\n",
      " 2   Low     6037 non-null   float64\n",
      " 3   Close   6037 non-null   float64\n",
      " 4   Volume  6037 non-null   int64  \n",
      "dtypes: float64(4), int64(1)\n",
      "memory usage: 283.0 KB\n"
     ]
    }
   ],
   "source": [
    "df.info()"
   ]
  },
  {
   "cell_type": "markdown",
   "metadata": {},
   "source": [
    "### _Step 2.2 - Missing & Duplicate Check_"
   ]
  },
  {
   "cell_type": "code",
   "execution_count": 11,
   "metadata": {},
   "outputs": [
    {
     "data": {
      "text/plain": [
       "Open      0\n",
       "High      0\n",
       "Low       0\n",
       "Close     0\n",
       "Volume    0\n",
       "dtype: int64"
      ]
     },
     "execution_count": 11,
     "metadata": {},
     "output_type": "execute_result"
    }
   ],
   "source": [
    "df.isna().sum()"
   ]
  },
  {
   "cell_type": "code",
   "execution_count": 12,
   "metadata": {},
   "outputs": [
    {
     "data": {
      "text/plain": [
       "0"
      ]
     },
     "execution_count": 12,
     "metadata": {},
     "output_type": "execute_result"
    }
   ],
   "source": [
    "df.duplicated().sum()"
   ]
  },
  {
   "cell_type": "code",
   "execution_count": 13,
   "metadata": {},
   "outputs": [],
   "source": [
    "# There is no missing value and duplicated row"
   ]
  },
  {
   "cell_type": "markdown",
   "metadata": {},
   "source": [
    "### _Step 2.3 - asdaşlşfmalmdlşamsdasd_"
   ]
  },
  {
   "cell_type": "code",
   "execution_count": 14,
   "metadata": {},
   "outputs": [],
   "source": [
    "import seaborn as sns"
   ]
  },
  {
   "cell_type": "code",
   "execution_count": 15,
   "metadata": {},
   "outputs": [
    {
     "data": {
      "image/png": "[encoded data removed]",
      "text/plain": [
       "<Figure size 1200x800 with 1 Axes>"
      ]
     },
     "metadata": {},
     "output_type": "display_data"
    }
   ],
   "source": [
    "plt.figure(figsize=(12,8))\n",
    "x_ticks_interval = 400\n",
    "sns.lineplot(df,x=\"Date\",y=\"Close\", linewidth=2.5)\n",
    "plt.xticks(rotation=45)\n",
    "plt.gca().xaxis.set_major_locator(plt.MultipleLocator(x_ticks_interval))"
   ]
  },
  {
   "cell_type": "code",
   "execution_count": 20,
   "metadata": {},
   "outputs": [
    {
     "data": {
      "text/html": [
       "<div>\n",
       "<style scoped>\n",
       "    .dataframe tbody tr th:only-of-type {\n",
       "        vertical-align: middle;\n",
       "    }\n",
       "\n",
       "    .dataframe tbody tr th {\n",
       "        vertical-align: top;\n",
       "    }\n",
       "\n",
       "    .dataframe thead th {\n",
       "        text-align: right;\n",
       "    }\n",
       "</style>\n",
       "<table border=\"1\" class=\"dataframe\">\n",
       "  <thead>\n",
       "    <tr style=\"text-align: right;\">\n",
       "      <th></th>\n",
       "      <th>Date</th>\n",
       "      <th>Open</th>\n",
       "      <th>High</th>\n",
       "      <th>Low</th>\n",
       "      <th>Close</th>\n",
       "      <th>Volume</th>\n",
       "    </tr>\n",
       "  </thead>\n",
       "  <tbody>\n",
       "    <tr>\n",
       "      <th>0</th>\n",
       "      <td>2023-10-27</td>\n",
       "      <td>126.20</td>\n",
       "      <td>130.0200</td>\n",
       "      <td>125.52</td>\n",
       "      <td>127.74</td>\n",
       "      <td>125309313</td>\n",
       "    </tr>\n",
       "    <tr>\n",
       "      <th>1</th>\n",
       "      <td>2023-10-26</td>\n",
       "      <td>120.63</td>\n",
       "      <td>121.6393</td>\n",
       "      <td>118.35</td>\n",
       "      <td>119.57</td>\n",
       "      <td>100419516</td>\n",
       "    </tr>\n",
       "    <tr>\n",
       "      <th>2</th>\n",
       "      <td>2023-10-25</td>\n",
       "      <td>126.04</td>\n",
       "      <td>126.3400</td>\n",
       "      <td>120.79</td>\n",
       "      <td>121.39</td>\n",
       "      <td>74577544</td>\n",
       "    </tr>\n",
       "    <tr>\n",
       "      <th>3</th>\n",
       "      <td>2023-10-24</td>\n",
       "      <td>127.74</td>\n",
       "      <td>128.8000</td>\n",
       "      <td>126.34</td>\n",
       "      <td>128.56</td>\n",
       "      <td>46477355</td>\n",
       "    </tr>\n",
       "    <tr>\n",
       "      <th>4</th>\n",
       "      <td>2023-10-23</td>\n",
       "      <td>124.63</td>\n",
       "      <td>127.8800</td>\n",
       "      <td>123.98</td>\n",
       "      <td>126.56</td>\n",
       "      <td>48259953</td>\n",
       "    </tr>\n",
       "    <tr>\n",
       "      <th>...</th>\n",
       "      <td>...</td>\n",
       "      <td>...</td>\n",
       "      <td>...</td>\n",
       "      <td>...</td>\n",
       "      <td>...</td>\n",
       "      <td>...</td>\n",
       "    </tr>\n",
       "    <tr>\n",
       "      <th>995</th>\n",
       "      <td>2019-11-13</td>\n",
       "      <td>1773.39</td>\n",
       "      <td>1775.0000</td>\n",
       "      <td>1747.32</td>\n",
       "      <td>1753.11</td>\n",
       "      <td>2926892</td>\n",
       "    </tr>\n",
       "    <tr>\n",
       "      <th>996</th>\n",
       "      <td>2019-11-12</td>\n",
       "      <td>1774.66</td>\n",
       "      <td>1786.2200</td>\n",
       "      <td>1771.91</td>\n",
       "      <td>1778.00</td>\n",
       "      <td>2038925</td>\n",
       "    </tr>\n",
       "    <tr>\n",
       "      <th>997</th>\n",
       "      <td>2019-11-11</td>\n",
       "      <td>1778.00</td>\n",
       "      <td>1780.0000</td>\n",
       "      <td>1767.13</td>\n",
       "      <td>1771.65</td>\n",
       "      <td>1947810</td>\n",
       "    </tr>\n",
       "    <tr>\n",
       "      <th>998</th>\n",
       "      <td>2019-11-08</td>\n",
       "      <td>1787.89</td>\n",
       "      <td>1789.8800</td>\n",
       "      <td>1774.04</td>\n",
       "      <td>1785.88</td>\n",
       "      <td>2126198</td>\n",
       "    </tr>\n",
       "    <tr>\n",
       "      <th>999</th>\n",
       "      <td>2019-11-07</td>\n",
       "      <td>1803.76</td>\n",
       "      <td>1805.9000</td>\n",
       "      <td>1783.48</td>\n",
       "      <td>1788.20</td>\n",
       "      <td>2651086</td>\n",
       "    </tr>\n",
       "  </tbody>\n",
       "</table>\n",
       "<p>1000 rows × 6 columns</p>\n",
       "</div>"
      ],
      "text/plain": [
       "           Date     Open       High      Low    Close     Volume\n",
       "0    2023-10-27   126.20   130.0200   125.52   127.74  125309313\n",
       "1    2023-10-26   120.63   121.6393   118.35   119.57  100419516\n",
       "2    2023-10-25   126.04   126.3400   120.79   121.39   74577544\n",
       "3    2023-10-24   127.74   128.8000   126.34   128.56   46477355\n",
       "4    2023-10-23   124.63   127.8800   123.98   126.56   48259953\n",
       "..          ...      ...        ...      ...      ...        ...\n",
       "995  2019-11-13  1773.39  1775.0000  1747.32  1753.11    2926892\n",
       "996  2019-11-12  1774.66  1786.2200  1771.91  1778.00    2038925\n",
       "997  2019-11-11  1778.00  1780.0000  1767.13  1771.65    1947810\n",
       "998  2019-11-08  1787.89  1789.8800  1774.04  1785.88    2126198\n",
       "999  2019-11-07  1803.76  1805.9000  1783.48  1788.20    2651086\n",
       "\n",
       "[1000 rows x 6 columns]"
      ]
     },
     "execution_count": 20,
     "metadata": {},
     "output_type": "execute_result"
    }
   ],
   "source": [
    "df.head(1000)"
   ]
  },
  {
   "cell_type": "code",
   "execution_count": null,
   "metadata": {},
   "outputs": [],
   "source": []
  }
 ],
 "metadata": {
  "kernelspec": {
   "display_name": "base",
   "language": "python",
   "name": "python3"
  },
  "language_info": {
   "codemirror_mode": {
    "name": "ipython",
    "version": 3
   },
   "file_extension": ".py",
   "mimetype": "text/x-python",
   "name": "python",
   "nbconvert_exporter": "python",
   "pygments_lexer": "ipython3",
   "version": "3.11.6"
  }
 },
 "nbformat": 4,
 "nbformat_minor": 2
}
